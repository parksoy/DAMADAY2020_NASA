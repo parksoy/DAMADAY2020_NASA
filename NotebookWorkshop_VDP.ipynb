{
 "cells": [
  {
   "cell_type": "markdown",
   "metadata": {},
   "source": [
    "# DAMA Day Workshop"
   ]
  },
  {
   "cell_type": "markdown",
   "metadata": {},
   "source": [
    "## Welcome to this DAMA Day Workshop!\n",
    "If you have any questions about this notebook, please contact us:\n",
    "Victoria Da Poian (victoria.dapoian@nasa.gov)\n",
    "Eric Lyness (eric.i.lyness@nasa.gov)"
   ]
  },
  {
   "cell_type": "markdown",
   "metadata": {},
   "source": [
    "### In this notebook:\n",
    "- Processing the Data\n",
    "- Exploring the Data \n",
    "- Putting data in a ML format\n",
    "\n",
    "\n",
    "Data = Csv file with :\n",
    "- 1 column for USID (identification of the spectrum)\n",
    "- 1950 columns of mass spectra (raw science data)\n",
    "- 7 columns for params (parameters linked to the instrument and measurement)\n",
    "- 2 columns for labels (6 different categories, 64 samples)"
   ]
  },
  {
   "cell_type": "markdown",
   "metadata": {},
   "source": [
    "# Processing and Exploring the Data"
   ]
  },
  {
   "cell_type": "markdown",
   "metadata": {},
   "source": [
    "We first have to read in the CSV file that we've been given. We'll use a package called pandas for that:"
   ]
  },
  {
   "cell_type": "code",
   "execution_count": 2,
   "metadata": {},
   "outputs": [],
   "source": [
    "import pandas as pd\n",
    "import os\n",
    "import numpy as np\n",
    "from numpy import argmax\n",
    "from sklearn.preprocessing import LabelEncoder\n",
    "from sklearn.preprocessing import OneHotEncoder\n",
    "from sklearn.model_selection import train_test_split\n",
    "import matplotlib.pyplot as plt"
   ]
  },
  {
   "cell_type": "code",
   "execution_count": 17,
   "metadata": {},
   "outputs": [],
   "source": [
    "def encoder(dataToEncode): #encode label values (label1 label2) as integer values\n",
    "    encoder = LabelEncoder()\n",
    "    encoded_Y = encoder.fit_transform(dataToEncode)\n",
    "    classes = encoder.classes_\n",
    "    # convert the vector of integers to dummy variables (i.e. one hot encoded) \n",
    "    onehot_encoder = OneHotEncoder(sparse=False)\n",
    "    integer_encoded = encoded_Y.reshape(len(encoded_Y), 1)\n",
    "    Y = onehot_encoder.fit_transform(integer_encoded)\n",
    "    return(Y)\n",
    "\n",
    "def printEncodertoLabels(dataToEncode, nb_categories): # print the relations between the class values and the encoded integers\n",
    "    encoder = LabelEncoder()\n",
    "    encoded_Y = encoder.fit_transform(dataToEncode)\n",
    "    for i in range(nb_categories):\n",
    "        print(str(i) + \" : \" + encoder.inverse_transform([i]))\n",
    "        \n",
    "def dicEncodertoLabels(dataToEncode, nb_categories): # create a dictionary between the real labels and the encoded integers values\n",
    "    encoder = LabelEncoder()\n",
    "    encoded_Y = encoder.fit_transform(dataToEncode)\n",
    "    arraytoLabelDico = {}\n",
    "    for k in range(nb_categories):\n",
    "        encoded_array = np.zeros(nb_categories)\n",
    "        encoded_array[k] = 1\n",
    "        inverted_label = encoder.inverse_transform([argmax(encoded_array)])\n",
    "        arraytoLabelDico[tuple(encoded_array)] = str(inverted_label)\n",
    "    return(arraytoLabelDico)\n",
    " \n",
    "    \n",
    "def operationNormalizeX(x): #normalization process for our input data\n",
    "    return(x/(1+x))"
   ]
  },
  {
   "cell_type": "code",
   "execution_count": 7,
   "metadata": {},
   "outputs": [],
   "source": [
    "###Load INPUT data File\n",
    "file = 'ml_data_damaday_final_VDP.csv'\n",
    "filename = file.split(\".csv\")[0]\n",
    "dataset = pd.read_csv(file)  "
   ]
  },
  {
   "cell_type": "code",
   "execution_count": 8,
   "metadata": {},
   "outputs": [
    {
     "name": "stdout",
     "output_type": "stream",
     "text": [
      "         USID  0  1  2  3  4  5  6  7  8  ...  1950   Param1  Param2  \\\n",
      "0  8198000001  0  0  0  0  0  0  0  0  0  ...     0  12.6549       5   \n",
      "1  8198000002  0  0  0  0  0  0  0  0  0  ...     0  12.2765       5   \n",
      "2  8198000003  0  0  0  0  0  0  0  0  0  ...     0  12.7667       5   \n",
      "3  8198000004  0  0  0  0  0  0  0  0  0  ...     0  12.4442       5   \n",
      "4  8198000005  0  0  0  0  0  0  0  0  0  ...     0  13.1107       5   \n",
      "\n",
      "     Param3  Param4  Param5  Param6  Param7  Label1  Label2  \n",
      "0  0.463842       1    3812      83    0.01       A      10  \n",
      "1  0.644139       1    2891      99    0.01       A      10  \n",
      "2  0.417654       1    2720     102    0.01       A      10  \n",
      "3  0.712478       1    1961      86    0.01       A      10  \n",
      "4  0.566622       1    2652      98    0.01       A      10  \n",
      "\n",
      "[5 rows x 1961 columns]\n",
      "(26685, 1961)\n"
     ]
    }
   ],
   "source": [
    "###Info about input data File \n",
    "print(dataset.head())\n",
    "print(dataset.shape)\n",
    "\n",
    "# print(dataset.info())\n",
    "# print(dataset.describe())\n",
    "# print(dataset.dtypes())"
   ]
  },
  {
   "cell_type": "markdown",
   "metadata": {},
   "source": [
    "### Analysis of the Columns (USID, Mass Spec, Params, Labels)"
   ]
  },
  {
   "cell_type": "code",
   "execution_count": 9,
   "metadata": {},
   "outputs": [
    {
     "name": "stdout",
     "output_type": "stream",
     "text": [
      "['Param1', 'Param2', 'Param3', 'Param4', 'Param5', 'Param6', 'Param7']\n",
      "          Param1  Param2    Param3  Param4  Param5  Param6     Param7\n",
      "0      12.654900       5  0.463842       1    3812      83   0.010000\n",
      "1      12.276500       5  0.644139       1    2891      99   0.010000\n",
      "2      12.766700       5  0.417654       1    2720     102   0.010000\n",
      "3      12.444200       5  0.712478       1    1961      86   0.010000\n",
      "4      13.110700       5  0.566622       1    2652      98   0.010000\n",
      "5      12.328100       5  0.979381       1    2013     133   0.010000\n",
      "6      12.986000       5  0.576585       1    2085     110   0.010000\n",
      "7      13.020400       5  0.603166       1    1737      89   0.010000\n",
      "8      12.981700       5  0.295232       1    1301      58   0.010000\n",
      "9      13.029000       5  0.700253       1    1177      67   0.010000\n",
      "10     15.084400       5  0.309660       1    4127     106   0.010000\n",
      "11     15.140300       5  0.255985       1    4360      94   0.010000\n",
      "12     14.749000       5  1.053890       1    3634     105   0.010000\n",
      "13     15.273600       5  0.060200       1    4261     115   0.010000\n",
      "14     15.153200       5  0.282101       1    3990     106   0.010000\n",
      "15     15.161800       5  0.267638       1    3828     109   0.010000\n",
      "16     15.123100       5  0.372043       1    3801     101   0.010000\n",
      "17     15.308000       5  0.056065       1    3898     127   0.010000\n",
      "18     15.110200       5  0.336775       1    3805     120   0.010000\n",
      "19     15.127400       5  0.342546       1    3742     153   0.010000\n",
      "20     14.181400       5  0.137061       1    5085      56   0.010000\n",
      "21     14.121200       5  0.169509       1    5068      49   0.010000\n",
      "22     14.194300       5  0.152877       1    5196      56   0.010000\n",
      "23     14.009400       5  0.210041       1    5020      58   0.010000\n",
      "24     13.570800       5  0.638286       1    3877      44   0.010000\n",
      "25     13.858900       5  0.275536       1    4324      51   0.010000\n",
      "26     13.717000       5  0.460522       1    4314      45   0.010000\n",
      "27     13.906200       5  0.171138       1    4757      55   0.010000\n",
      "28     13.811600       5  0.148085       1    4569      49   0.010000\n",
      "29     13.803000       5  0.152028       1    4660      52   0.010000\n",
      "...          ...     ...       ...     ...     ...     ...        ...\n",
      "26655  50.484901       1  0.000000       1     759      15  29.540001\n",
      "26656  52.648998       1  0.000000       1     931      15  29.670000\n",
      "26657  50.420300       1  0.000000       1     629      11  32.689999\n",
      "26658  50.614101       1  0.000000       1     718      11  29.940001\n",
      "26659  50.388000       1  0.000000       1     744       9  29.459999\n",
      "26660  50.484901       1  0.000000       1     746      13  29.370001\n",
      "26661  50.452599       1  0.000000       1     732      15  29.309999\n",
      "26662  50.452599       1  0.000000       1     795      14  29.040001\n",
      "26663  50.420300       1  0.000000       1     740      12  29.670000\n",
      "26664  50.420300       1  0.000000       1     784      15  29.530001\n",
      "26665  50.420300       1  0.000000       1     699      16  30.020000\n",
      "26666  50.549500       1  0.000000       1     793      14  29.219999\n",
      "26667  50.581799       1  0.000000       1     752      11  29.830000\n",
      "26668  50.452599       1  0.000000       1     817      17  29.860001\n",
      "26669  50.614101       1  0.000000       1     909      14  31.090000\n",
      "26670  50.517200       1  0.000000       1     718       8  33.889999\n",
      "26671  50.710999       1  0.000000       1     818      10  33.230000\n",
      "26672  50.129601       1  0.000000       1     641       9  34.520000\n",
      "26673  50.872501       1  0.000000       1     873      17  32.060001\n",
      "26674  50.614101       1  0.000000       1     725      14  34.299999\n",
      "26675  50.614101       1  0.000000       1     739      14  33.779999\n",
      "26676  50.904800       1  0.000000       1     930      13  33.549999\n",
      "26677  50.484901       1  0.000000       1     672      14  36.680000\n",
      "26678  50.581799       1  0.000000       1     776      12  34.970001\n",
      "26679  50.646400       1  0.000000       1     740      11  35.490002\n",
      "26680  50.549500       1  0.000000       1     767      13  35.279999\n",
      "26681  50.517200       1  0.000000       1     635      11  35.619999\n",
      "26682  50.517200       1  0.000000       1     676      13  33.009998\n",
      "26683  50.549500       1  0.000000       1     757      13  31.400000\n",
      "26684  50.517200       1  0.000000       1     686      15  31.540001\n",
      "\n",
      "[26685 rows x 7 columns]\n"
     ]
    }
   ],
   "source": [
    "###Columns names\n",
    "columns_names = dataset.columns.tolist()\n",
    "listAllParams = columns_names[-9:-2]\n",
    "print(listAllParams)\n",
    "nberParams = len(listAllParams)\n",
    "\n",
    "###Just the params part\n",
    "dataset_params = dataset[listAllParams]\n",
    "print(dataset_params)"
   ]
  },
  {
   "cell_type": "code",
   "execution_count": 12,
   "metadata": {},
   "outputs": [],
   "source": [
    "###Here you select the params you want to remove \n",
    "listParams = [] #no params to remove\n",
    "#listParams = [\"Param1\", \"Param2\"] #if you want to remove Param1 and Param2"
   ]
  },
  {
   "cell_type": "code",
   "execution_count": 13,
   "metadata": {},
   "outputs": [
    {
     "data": {
      "text/plain": [
       "(26685, 1951)"
      ]
     },
     "execution_count": 13,
     "metadata": {},
     "output_type": "execute_result"
    }
   ],
   "source": [
    "###Y values (2 options for the labels)\n",
    "y_1 = dataset.Label1\n",
    "y_2 = dataset.Label2\n",
    "\n",
    "###Define X values (all the dataset, only mass spec data, mass spec data + params)\n",
    "Xall = dataset.drop(['Label1','Label2'],axis=1) #all data\n",
    "XnoUSID = Xall.drop(['USID'],axis=1) #all data without USID\n",
    "XmassSpec = XnoUSID.drop(listAllParams, axis=1) #just mass spec data\n",
    "XmassSpec.shape"
   ]
  },
  {
   "cell_type": "markdown",
   "metadata": {},
   "source": [
    "### Define your inputs X and Y"
   ]
  },
  {
   "cell_type": "code",
   "execution_count": 20,
   "metadata": {},
   "outputs": [
    {
     "name": "stdout",
     "output_type": "stream",
     "text": [
      "6\n",
      "   0  1  2  3  4  5  6  7  8  9  ...  1948  1949  1950   Param1  Param2  \\\n",
      "0  0  0  0  0  0  0  0  0  0  0  ...     0     0     0  12.6549       5   \n",
      "1  0  0  0  0  0  0  0  0  0  0  ...     0     0     0  12.2765       5   \n",
      "2  0  0  0  0  0  0  0  0  0  0  ...     0     0     0  12.7667       5   \n",
      "3  0  0  0  0  0  0  0  0  0  0  ...     0     0     0  12.4442       5   \n",
      "4  0  0  0  0  0  0  0  0  0  0  ...     0     0     0  13.1107       5   \n",
      "5  0  0  0  0  0  0  0  0  0  0  ...     0     0     0  12.3281       5   \n",
      "6  0  0  0  0  0  0  0  0  0  0  ...     0     0     0  12.9860       5   \n",
      "7  0  0  0  0  0  0  0  0  0  0  ...     0     0     0  13.0204       5   \n",
      "8  0  0  0  0  0  0  0  0  0  0  ...     0     0     0  12.9817       5   \n",
      "9  0  0  0  0  0  0  0  0  0  0  ...     0     0     0  13.0290       5   \n",
      "\n",
      "     Param3  Param4  Param5  Param6  Param7  \n",
      "0  0.463842       1    3812      83    0.01  \n",
      "1  0.644139       1    2891      99    0.01  \n",
      "2  0.417654       1    2720     102    0.01  \n",
      "3  0.712478       1    1961      86    0.01  \n",
      "4  0.566622       1    2652      98    0.01  \n",
      "5  0.979381       1    2013     133    0.01  \n",
      "6  0.576585       1    2085     110    0.01  \n",
      "7  0.603166       1    1737      89    0.01  \n",
      "8  0.295232       1    1301      58    0.01  \n",
      "9  0.700253       1    1177      67    0.01  \n",
      "\n",
      "[10 rows x 1958 columns]\n"
     ]
    }
   ],
   "source": [
    "#Which input data X do you want to use?\n",
    "X = XnoUSID.drop([param for param in listParams], axis=1)\n",
    "inputSize = X.shape[1]\n",
    "\n",
    "#Which label y do you want to use?\n",
    "y=y_1\n",
    "nb_categories = len(pd.unique(y))\n",
    "print(nb_categories)\n",
    "\n",
    "print(X[:10])"
   ]
  },
  {
   "cell_type": "code",
   "execution_count": 21,
   "metadata": {},
   "outputs": [
    {
     "data": {
      "image/png": "[encoded data removed]",
      "text/plain": [
       "<Figure size 432x288 with 1 Axes>"
      ]
     },
     "metadata": {
      "needs_background": "light"
     },
     "output_type": "display_data"
    },
    {
     "data": {
      "image/png": "[encoded data removed]",
      "text/plain": [
       "<Figure size 432x288 with 1 Axes>"
      ]
     },
     "metadata": {
      "needs_background": "light"
     },
     "output_type": "display_data"
    },
    {
     "data": {
      "image/png": "[encoded data removed]",
      "text/plain": [
       "<Figure size 432x288 with 1 Axes>"
      ]
     },
     "metadata": {
      "needs_background": "light"
     },
     "output_type": "display_data"
    },
    {
     "data": {
      "image/png": "[encoded data removed]",
      "text/plain": [
       "<Figure size 432x288 with 1 Axes>"
      ]
     },
     "metadata": {
      "needs_background": "light"
     },
     "output_type": "display_data"
    },
    {
     "data": {
      "image/png": "[encoded data removed]",
      "text/plain": [
       "<Figure size 432x288 with 1 Axes>"
      ]
     },
     "metadata": {
      "needs_background": "light"
     },
     "output_type": "display_data"
    },
    {
     "data": {
      "image/png": "[encoded data removed]",
      "text/plain": [
       "<Figure size 432x288 with 1 Axes>"
      ]
     },
     "metadata": {
      "needs_background": "light"
     },
     "output_type": "display_data"
    },
    {
     "data": {
      "image/png": "[encoded data removed]",
      "text/plain": [
       "<Figure size 432x288 with 1 Axes>"
      ]
     },
     "metadata": {
      "needs_background": "light"
     },
     "output_type": "display_data"
    },
    {
     "data": {
      "image/png": "[encoded data removed]",
      "text/plain": [
       "<Figure size 432x288 with 1 Axes>"
      ]
     },
     "metadata": {
      "needs_background": "light"
     },
     "output_type": "display_data"
    },
    {
     "data": {
      "image/png": "[encoded data removed]",
      "text/plain": [
       "<Figure size 432x288 with 1 Axes>"
      ]
     },
     "metadata": {
      "needs_background": "light"
     },
     "output_type": "display_data"
    },
    {
     "data": {
      "image/png": "[encoded data removed]",
      "text/plain": [
       "<Figure size 432x288 with 1 Axes>"
      ]
     },
     "metadata": {
      "needs_background": "light"
     },
     "output_type": "display_data"
    }
   ],
   "source": [
    "## Plot some mass specs\n",
    "for i in range(1,100,10):\n",
    "    massSpec = XmassSpec.iloc[i]\n",
    "    #print(massSpec)\n",
    "    ax=massSpec.plot()\n",
    "    ax.set_ylabel('Abundance')\n",
    "    ax.set_xlabel('M/Z')\n",
    "    plt.show()"
   ]
  },
  {
   "cell_type": "markdown",
   "metadata": {},
   "source": [
    "### Encode the labels as integers"
   ]
  },
  {
   "cell_type": "code",
   "execution_count": 25,
   "metadata": {},
   "outputs": [
    {
     "name": "stdout",
     "output_type": "stream",
     "text": [
      "['0 : A']\n",
      "['1 : B']\n",
      "['2 : C']\n",
      "['3 : D']\n",
      "['4 : E']\n",
      "['5 : F']\n",
      "{(1.0, 0.0, 0.0, 0.0, 0.0, 0.0): \"['A']\", (0.0, 1.0, 0.0, 0.0, 0.0, 0.0): \"['B']\", (0.0, 0.0, 1.0, 0.0, 0.0, 0.0): \"['C']\", (0.0, 0.0, 0.0, 1.0, 0.0, 0.0): \"['D']\", (0.0, 0.0, 0.0, 0.0, 1.0, 0.0): \"['E']\", (0.0, 0.0, 0.0, 0.0, 0.0, 1.0): \"['F']\"}\n",
      "\n",
      "X: (26685, 1958) ; X(noUSID): (26685, 1958) ; y (initial): (26685,) ; y(encoded): (26685, 6) \n",
      "\n",
      "List of the different 6 labels:\n",
      " ['A' 'B' 'C' 'D' 'E' 'F']  \n"
     ]
    },
    {
     "name": "stderr",
     "output_type": "stream",
     "text": [
      "/anaconda3/lib/python3.7/site-packages/sklearn/preprocessing/_encoders.py:415: FutureWarning: The handling of integer data will change in version 0.22. Currently, the categories are determined based on the range [0, max(values)], while in the future they will be determined based on the unique values.\n",
      "If you want the future behaviour and silence this warning, you can specify \"categories='auto'\".\n",
      "In case you used a LabelEncoder before this OneHotEncoder to convert the categories to integers, then you can now use the OneHotEncoder directly.\n",
      "  warnings.warn(msg, FutureWarning)\n"
     ]
    }
   ],
   "source": [
    "###Encode class values as integers\n",
    "Y = encoder(y)\n",
    "printEncodertoLabels(y, nb_categories)\n",
    "arraytoLabelDico = dicEncodertoLabels(y, nb_categories)\n",
    "print(arraytoLabelDico)\n",
    "print(\"\\nX: {} ; X(noUSID): {} ; y (initial): {} ; y(encoded): {} \".format(X.shape, XnoUSID.shape, y.shape, Y.shape))\n",
    "print(\"\\nList of the different {} labels:\\n {}  \".format(nb_categories, pd.unique(y)))"
   ]
  },
  {
   "cell_type": "markdown",
   "metadata": {},
   "source": [
    "### Normalization Process"
   ]
  },
  {
   "cell_type": "code",
   "execution_count": 143,
   "metadata": {},
   "outputs": [
    {
     "name": "stdout",
     "output_type": "stream",
     "text": [
      "     0    1    2    3    4    5    6    7    8    9  ...  1948  1949  1950  \\\n",
      "0  0.0  0.0  0.0  0.0  0.0  0.0  0.0  0.0  0.0  0.0  ...   0.0   0.0   0.0   \n",
      "1  0.0  0.0  0.0  0.0  0.0  0.0  0.0  0.0  0.0  0.0  ...   0.0   0.0   0.0   \n",
      "2  0.0  0.0  0.0  0.0  0.0  0.0  0.0  0.0  0.0  0.0  ...   0.0   0.0   0.0   \n",
      "3  0.0  0.0  0.0  0.0  0.0  0.0  0.0  0.0  0.0  0.0  ...   0.0   0.0   0.0   \n",
      "4  0.0  0.0  0.0  0.0  0.0  0.0  0.0  0.0  0.0  0.0  ...   0.0   0.0   0.0   \n",
      "5  0.0  0.0  0.0  0.0  0.0  0.0  0.0  0.0  0.0  0.0  ...   0.0   0.0   0.0   \n",
      "6  0.0  0.0  0.0  0.0  0.0  0.0  0.0  0.0  0.0  0.0  ...   0.0   0.0   0.0   \n",
      "7  0.0  0.0  0.0  0.0  0.0  0.0  0.0  0.0  0.0  0.0  ...   0.0   0.0   0.0   \n",
      "8  0.0  0.0  0.0  0.0  0.0  0.0  0.0  0.0  0.0  0.0  ...   0.0   0.0   0.0   \n",
      "9  0.0  0.0  0.0  0.0  0.0  0.0  0.0  0.0  0.0  0.0  ...   0.0   0.0   0.0   \n",
      "\n",
      "     Param1    Param2    Param3  Param4    Param5    Param6    Param7  \n",
      "0  0.926766  0.833333  0.316866     0.5  0.999738  0.988095  0.009901  \n",
      "1  0.924679  0.833333  0.391779     0.5  0.999654  0.990000  0.009901  \n",
      "2  0.927361  0.833333  0.294609     0.5  0.999632  0.990291  0.009901  \n",
      "3  0.925618  0.833333  0.416051     0.5  0.999490  0.988506  0.009901  \n",
      "4  0.929132  0.833333  0.361684     0.5  0.999623  0.989899  0.009901  \n",
      "5  0.924971  0.833333  0.494792     0.5  0.999503  0.992537  0.009901  \n",
      "6  0.928500  0.833333  0.365718     0.5  0.999521  0.990991  0.009901  \n",
      "7  0.928675  0.833333  0.376234     0.5  0.999425  0.988889  0.009901  \n",
      "8  0.928478  0.833333  0.227938     0.5  0.999232  0.983051  0.009901  \n",
      "9  0.928719  0.833333  0.411852     0.5  0.999151  0.985294  0.009901  \n",
      "\n",
      "[10 rows x 1958 columns]\n"
     ]
    }
   ],
   "source": [
    "###Normalization process\n",
    "\n",
    "# ###Min - Max scaler\n",
    "# min_max_scaler = preprocessing.MinMaxScaler(feature_range=(0, 1))\n",
    "# X_scale = min_max_scaler.fit_transform(X)\n",
    "# X_norm = pd.DataFrame(min_max_scaler.transform(X), index=X.index, columns=X.columns)\n",
    "\n",
    "X = X.select_dtypes(exclude=['object']).apply(operationNormalizeX,axis=0)\n",
    "print(X[:10])\n"
   ]
  },
  {
   "cell_type": "markdown",
   "metadata": {},
   "source": [
    "Now, we split the dataset into training, testing and validation sets."
   ]
  },
  {
   "cell_type": "code",
   "execution_count": 132,
   "metadata": {},
   "outputs": [
    {
     "name": "stdout",
     "output_type": "stream",
     "text": [
      "(21348, 1958) (2668, 1958) (2669, 1958) (21348, 6) (2668, 6) (2669, 6)\n"
     ]
    }
   ],
   "source": [
    "###Split dataset\n",
    "train_test_ratio = 0.2 #80% is used for the training\n",
    "test_val_ratio = 0.5 #Half for validation, half for testing\n",
    "\n",
    "X_train, X_val_and_test, Y_train, Y_val_and_test = train_test_split(X, Y, test_size=train_test_ratio)\n",
    "X_val, X_test, Y_val, Y_test = train_test_split(X_val_and_test, Y_val_and_test, test_size=test_val_ratio)\n",
    "print(X_train.shape, X_val.shape, X_test.shape, Y_train.shape, Y_val.shape, Y_test.shape)\n"
   ]
  },
  {
   "cell_type": "code",
   "execution_count": null,
   "metadata": {},
   "outputs": [],
   "source": []
  }
 ],
 "metadata": {
  "kernelspec": {
   "display_name": "Python 3",
   "language": "python",
   "name": "python3"
  },
  "language_info": {
   "codemirror_mode": {
    "name": "ipython",
    "version": 3
   },
   "file_extension": ".py",
   "mimetype": "text/x-python",
   "name": "python",
   "nbconvert_exporter": "python",
   "pygments_lexer": "ipython3",
   "version": "3.7.3"
  }
 },
 "nbformat": 4,
 "nbformat_minor": 2
}
