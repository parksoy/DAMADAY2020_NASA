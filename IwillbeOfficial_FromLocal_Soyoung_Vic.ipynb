{
 "cells": [
  {
   "cell_type": "markdown",
   "metadata": {},
   "source": [
    "# DAMA Day Workshop"
   ]
  },
  {
   "cell_type": "markdown",
   "metadata": {},
   "source": [
    "## Welcome to this DAMA Day Workshop!\n",
    "If you have any questions about this notebook, please contact us:  \n",
    "Victoria Da Poian (victoria.dapoian@nasa.gov)  \n",
    "Eric Lyness (eric.i.lyness@nasa.gov)  "
   ]
  },
  {
   "cell_type": "markdown",
   "metadata": {},
   "source": [
    "### In this notebook:\n",
    "- Processing the Data\n",
    "- Exploring the Data \n",
    "- Putting data in a ML format\n",
    "- Provide some ideas / actions to work on during the workshop (or after :D)\n",
    "\n",
    "Data = Csv file with :\n",
    "- 1 column for USID (identification of the spectrum)\n",
    "- 1950 columns of mass spectra (raw science data)\n",
    "- 7 columns for parameters (parameters linked to the instrument and measurement)\n",
    "- 2 columns for labels (6 different categories, 64 samples)"
   ]
  },
  {
   "cell_type": "markdown",
   "metadata": {},
   "source": [
    "### Python Environment Setup"
   ]
  },
  {
   "cell_type": "markdown",
   "metadata": {},
   "source": [
    "#### (1) If you gitclone, running it locally/VM"
   ]
  },
  {
   "cell_type": "code",
   "execution_count": 1,
   "metadata": {},
   "outputs": [
    {
     "name": "stdout",
     "output_type": "stream",
     "text": [
      "/Users/soyoungpark/Desktop/DAMADAY2020_NASA\r\n"
     ]
    }
   ],
   "source": [
    "!pwd"
   ]
  },
  {
   "cell_type": "code",
   "execution_count": 2,
   "metadata": {},
   "outputs": [
    {
     "name": "stdout",
     "output_type": "stream",
     "text": [
      "total 1104016\r\n",
      "-rw-r--r--@ 1 soyoungpark  staff  110976485 Sep 24 10:48 ml_data_damaday.csv\r\n",
      "-rw-r--r--@ 1 soyoungpark  staff  190712153 Sep 29 16:16 DataScienceUMDTalk_MOMAML_1505 (1).pptx\r\n",
      "-rw-r--r--@ 1 soyoungpark  staff       1069 Oct  6 19:00 LICENSE\r\n",
      "-rw-r--r--  1 soyoungpark  staff       2341 Oct  7 09:37 README.md\r\n",
      "-rw-r--r--@ 1 soyoungpark  staff  111324662 Oct  7 13:05 SpectraInArrayInOneColumn.csv\r\n",
      "-rw-r--r--@ 1 soyoungpark  staff  107698487 Oct  8 15:13 ml_data_damaday_final_VDP.csv\r\n",
      "-rw-r--r--@ 1 soyoungpark  staff     145138 Oct  8 19:25 SoyoungEDALocal.ipynb\r\n",
      "-rw-r--r--@ 1 soyoungpark  staff     128729 Oct  9 08:28 NotebookWorkshop_VDP.ipynb\r\n",
      "drwxr-xr-x  5 soyoungpark  staff        160 Oct 12 07:09 \u001b[34mtraining_1\u001b[m\u001b[m\r\n",
      "-rw-r--r--@ 1 soyoungpark  staff     869507 Oct 15 06:02 SoyoungAppendToVDP.ipynb\r\n",
      "drwxr-xr-x  3 soyoungpark  staff         96 Oct 15 06:46 \u001b[34msaved_model\u001b[m\u001b[m\r\n",
      "-rw-r--r--  1 soyoungpark  staff    9017648 Oct 15 10:52 my_model0.h5\r\n",
      "-rw-r--r--  1 soyoungpark  staff        555 Oct 15 12:18 encoderAnomalytest.ipynb\r\n",
      "-rw-r--r--  1 soyoungpark  staff     225612 Oct 16 11:25 Compare All Models.ipynb\r\n",
      "-rw-r--r--  1 soyoungpark  staff       9343 Oct 16 12:08 requirements.txt\r\n",
      "-rw-r--r--@ 1 soyoungpark  staff     253875 Oct 16 13:40 IwillbeOfficial_FromLocal_Soyoung_Vic.ipynb\r\n",
      "-rw-r--r--@ 1 soyoungpark  staff     510480 Oct 16 13:43 IwillbeOfficial_FromLocal_Soyoung.ipynb\r\n"
     ]
    }
   ],
   "source": [
    "!ls -lrt #You will see files, as following."
   ]
  },
  {
   "cell_type": "code",
   "execution_count": 3,
   "metadata": {
    "tags": []
   },
   "outputs": [
    {
     "name": "stdout",
     "output_type": "stream",
     "text": [
      "\u001b[31mERROR: Could not open requirements file: [Errno 2] No such file or directory: 'requirement.txt'\u001b[0m\r\n"
     ]
    }
   ],
   "source": [
    "!pip install -r requirement.txt #This is only needed when you initiate the python environment for the first time."
   ]
  },
  {
   "cell_type": "code",
   "execution_count": 4,
   "metadata": {},
   "outputs": [
    {
     "name": "stdout",
     "output_type": "stream",
     "text": [
      "/Users/soyoungpark/anaconda3/bin/python\r\n"
     ]
    }
   ],
   "source": [
    "!which python #This python interpreter is what you will use for this notebook. "
   ]
  },
  {
   "cell_type": "code",
   "execution_count": 5,
   "metadata": {},
   "outputs": [
    {
     "name": "stdout",
     "output_type": "stream",
     "text": [
      "base\r\n"
     ]
    }
   ],
   "source": [
    "!echo $CONDA_DEFAULT_ENV #this is the name of your Conda Python Environment "
   ]
  },
  {
   "cell_type": "code",
   "execution_count": 6,
   "metadata": {},
   "outputs": [
    {
     "name": "stdout",
     "output_type": "stream",
     "text": [
      "3.7.6\n"
     ]
    }
   ],
   "source": [
    "from platform import python_version\n",
    "\n",
    "print(python_version())"
   ]
  },
  {
   "cell_type": "markdown",
   "metadata": {},
   "source": [
    "#### (2) if you run in Zepl, use \"DAMA_Python3\" image"
   ]
  },
  {
   "cell_type": "code",
   "execution_count": 7,
   "metadata": {},
   "outputs": [],
   "source": [
    "#!pip install tensorflow==2.3.1 scikit-learn matplotlib optuna #Everytime you instantiate a new image, you need to re-install these following packages or you use custom image \"DAMA_Python\" in Resorces section"
   ]
  },
  {
   "cell_type": "code",
   "execution_count": 8,
   "metadata": {},
   "outputs": [],
   "source": [
    "#!pip list"
   ]
  },
  {
   "cell_type": "markdown",
   "metadata": {},
   "source": [
    "### Getting ready - Snowflake + Zepl connection"
   ]
  },
  {
   "cell_type": "code",
   "execution_count": 9,
   "metadata": {},
   "outputs": [
    {
     "name": "stdout",
     "output_type": "stream",
     "text": [
      "Once deleted, variables cannot be recovered. Proceed (y/[n])? y\n"
     ]
    }
   ],
   "source": [
    "%reset"
   ]
  },
  {
   "cell_type": "markdown",
   "metadata": {},
   "source": [
    "#### (1) From Zepl, Download data from Snowflake\n",
    "Q: is snowflake connector, z available in pip?"
   ]
  },
  {
   "cell_type": "code",
   "execution_count": 10,
   "metadata": {},
   "outputs": [],
   "source": [
    "# %python\n",
    "# import snowflake.connector\n",
    "# import hashlib\n",
    "\n",
    "# class SnowflakeDataSource:\n",
    "#     SNOWFLAKE_SOURCE_NAME = \"net.snowflake.spark.snowflake\"\n",
    "\n",
    "#     def init_snowflake(self):\n",
    "#         options = {\n",
    "#             \"account\": self.account,\n",
    "#             \"user\": self.user,\n",
    "#             \"password\": self.password,\n",
    "#             \"database\": self.database,\n",
    "#             \"schema\": self.schema,\n",
    "#             \"role\": self.role,\n",
    "#             \"warehouse\": self.warehouse,\n",
    "#             \"authenticator\": self.authenticator,\n",
    "#             \"application\": self.application\n",
    "#         }\n",
    "\n",
    "#         if self.authenticator == \"oauth\":\n",
    "#             options[\"token\"] = self.token\n",
    "\n",
    "#         return snowflake.connector.connect(**options)\n",
    "\n",
    "#     def init_snowflake_spark(self):\n",
    "#         sfOptions = {\n",
    "#             \"sfURL\": \"{}.snowflakecomputing.com\".format(self.account),\n",
    "#             \"sfUser\": self.user,\n",
    "#             \"sfPassword\": self.password,\n",
    "#             \"sfDatabase\": self.database,\n",
    "#             \"sfSchema\": self.schema,\n",
    "#             \"sfRole\": self.role,\n",
    "#             \"sfWarehouse\": self.warehouse,\n",
    "#             \"sfAuthenticator\": self.authenticator,\n",
    "#             \"application\": self.application\n",
    "#         }\n",
    "\n",
    "#         if self.authenticator == \"oauth\":\n",
    "#             sfOptions[\"sfToken\"] = self.token\n",
    "\n",
    "#         return spark.read.format(self.SNOWFLAKE_SOURCE_NAME).options(**sfOptions)\n",
    "\n",
    "#     def establish_connection(self):\n",
    "#         if self.is_spark():\n",
    "#             df = self.init_snowflake_spark()\n",
    "#             z.addDatasource(self.name, df)\n",
    "#         else:\n",
    "#             con = self.init_snowflake()\n",
    "#             z.addDatasource(self.name, con.cursor())\n",
    "#             z.addDatasource(\"{}_con\".format(self.name), con)\n",
    "\n",
    "#     def is_spark(self):\n",
    "#         try:\n",
    "#             spark\n",
    "#         except NameError:\n",
    "#             return False\n",
    "\n",
    "#         return True\n",
    "\n",
    "#     def __init__(self, name, account, user, password, database, schema, role, warehouse, authenticator, token, clientId, clientSecret, application):\n",
    "#         self.name = name\n",
    "#         self.account = account\n",
    "#         self.user = user\n",
    "#         self.password = password\n",
    "#         self.database = database\n",
    "#         self.schema = schema\n",
    "#         self.role = role\n",
    "#         self.warehouse = warehouse\n",
    "#         self.authenticator = authenticator\n",
    "#         self.clientId = clientId\n",
    "#         self.clientSecret = clientSecret\n",
    "#         self.token = token\n",
    "#         self.application = application\n",
    "\n",
    "\n",
    "#         m = hashlib.md5()\n",
    "#         # We don't include the token since with the current implementation it will change frequently, but it's not necessary to update the connection with new tokens.\n",
    "#         m.update(account.encode('utf8') + user.encode('utf8') + password.encode('utf8') + database.encode('utf8') + schema.encode('utf8') + role.encode('utf8') + warehouse.encode('utf8') + authenticator.encode('utf8')+ clientId.encode('utf8') + clientSecret.encode('utf8') + application.encode('utf8'))\n",
    "#         currentConnectionParamsHash = m.hexdigest()\n",
    "#         try:\n",
    "#             z.getDatasource(name)\n",
    "#         except DatasourceException:\n",
    "#             # Connection doesn't exist, we need to establish a new one.\n",
    "#             self.establish_connection()\n",
    "#             z.add('CONNECTION_PARAMETERS_HASH', currentConnectionParamsHash)\n",
    "#         else:\n",
    "#             # A connection exists, we now check whether any connection parameters have changed since the last connection was established.\n",
    "#             previousConnectionParamsHash = z.get('CONNECTION_PARAMETERS_HASH')\n",
    "#             if currentConnectionParamsHash != previousConnectionParamsHash:\n",
    "#                 # Connection parameters have changed, re-establish connection.\n",
    "#                 self.establish_connection()\n",
    "#                 z.add('CONNECTION_PARAMETERS_HASH', currentConnectionParamsHash)\n",
    "\n",
    "# SnowflakeDataSource(name=\"DAMA_CSV_parkso3\", account=\"RM42265.west-us-2.azure\", user=\"parkso3\", password=\"IloveBrianCMU@1\", database=\"NASA_CSV\",\n",
    "#                     schema=\"DAMA_DAY_NASA\", role=\"\", warehouse=\"COMPUTE_WH\", authenticator=\"snowflake\", clientId=\"\",\n",
    "#                     clientSecret = \"\", token=\"\", application=\"Zepl\")\n",
    "\n",
    "# import pandas as pd\n",
    "# # establish connection to Snowflake\n",
    "# cur =z.getDatasource(\"DAMA_CSV_parkso3\")\n",
    "\n",
    "# #cur = z.getDatasource(\"NASA_CSV\")\n",
    "\n",
    "# # execute query\n",
    "# cur = cur.execute('SELECT * FROM dama_nasa_demo_data')# LIMIT 100\n",
    "\n",
    "# # convert datasource into pandas dataframe\n",
    "# dataset = cur.fetch_pandas_all()\n",
    "\n",
    "# # print dataframe as table\n",
    "# z.show(dataset)"
   ]
  },
  {
   "cell_type": "markdown",
   "metadata": {},
   "source": [
    "#### (2) or Read csv file"
   ]
  },
  {
   "cell_type": "code",
   "execution_count": 11,
   "metadata": {},
   "outputs": [
    {
     "ename": "NameError",
     "evalue": "name 'pd' is not defined",
     "output_type": "error",
     "traceback": [
      "\u001b[0;31m---------------------------------------------------------------------------\u001b[0m",
      "\u001b[0;31mNameError\u001b[0m                                 Traceback (most recent call last)",
      "\u001b[0;32m<ipython-input-11-17d13d78e396>\u001b[0m in \u001b[0;36m<module>\u001b[0;34m\u001b[0m\n\u001b[0;32m----> 1\u001b[0;31m \u001b[0mdataset\u001b[0m \u001b[0;34m=\u001b[0m \u001b[0mpd\u001b[0m\u001b[0;34m.\u001b[0m\u001b[0mread_csv\u001b[0m\u001b[0;34m(\u001b[0m\u001b[0;34m'ml_data_damaday_final_VDP.csv'\u001b[0m\u001b[0;34m)\u001b[0m\u001b[0;34m\u001b[0m\u001b[0;34m\u001b[0m\u001b[0m\n\u001b[0m\u001b[1;32m      2\u001b[0m \u001b[0mdataset\u001b[0m\u001b[0;34m.\u001b[0m\u001b[0mhead\u001b[0m\u001b[0;34m(\u001b[0m\u001b[0;36m2\u001b[0m\u001b[0;34m)\u001b[0m\u001b[0;34m\u001b[0m\u001b[0;34m\u001b[0m\u001b[0m\n",
      "\u001b[0;31mNameError\u001b[0m: name 'pd' is not defined"
     ]
    }
   ],
   "source": [
    "dataset = pd.read_csv('ml_data_damaday_final_VDP.csv')  \n",
    "dataset.head(2)"
   ]
  },
  {
   "cell_type": "markdown",
   "metadata": {},
   "source": [
    "### Processing and Exploring the Data"
   ]
  },
  {
   "cell_type": "markdown",
   "metadata": {},
   "source": [
    "### The data we are using in this notebook is csv file\n",
    "\n",
    "- 1 column for USID (identification of the spectrum)\n",
    "- 1950 columns of mass spectra (raw science data)\n",
    "- 7 columns for parameters (parameters linked to the instrument and measurement)\n",
    "- 2 columns for labels (6 different categories, 64 samples)"
   ]
  },
  {
   "cell_type": "markdown",
   "metadata": {},
   "source": [
    "We first have to read in the CSV file that we've been given. We'll use a package called pandas for that:"
   ]
  },
  {
   "cell_type": "code",
   "execution_count": 12,
   "metadata": {},
   "outputs": [],
   "source": [
    "import pandas as pd\n",
    "import os\n",
    "import numpy as np\n",
    "from numpy import argmax\n",
    "from sklearn.preprocessing import LabelEncoder\n",
    "from sklearn.preprocessing import OneHotEncoder\n",
    "from sklearn.model_selection import train_test_split\n",
    "import matplotlib.pyplot as plt"
   ]
  },
  {
   "cell_type": "code",
   "execution_count": 13,
   "metadata": {},
   "outputs": [
    {
     "data": {
      "text/html": [
       "<div>\n",
       "<style scoped>\n",
       "    .dataframe tbody tr th:only-of-type {\n",
       "        vertical-align: middle;\n",
       "    }\n",
       "\n",
       "    .dataframe tbody tr th {\n",
       "        vertical-align: top;\n",
       "    }\n",
       "\n",
       "    .dataframe thead th {\n",
       "        text-align: right;\n",
       "    }\n",
       "</style>\n",
       "<table border=\"1\" class=\"dataframe\">\n",
       "  <thead>\n",
       "    <tr style=\"text-align: right;\">\n",
       "      <th></th>\n",
       "      <th>USID</th>\n",
       "      <th>0</th>\n",
       "      <th>1</th>\n",
       "      <th>2</th>\n",
       "      <th>3</th>\n",
       "      <th>4</th>\n",
       "      <th>5</th>\n",
       "      <th>6</th>\n",
       "      <th>7</th>\n",
       "      <th>8</th>\n",
       "      <th>...</th>\n",
       "      <th>1950</th>\n",
       "      <th>Param1</th>\n",
       "      <th>Param2</th>\n",
       "      <th>Param3</th>\n",
       "      <th>Param4</th>\n",
       "      <th>Param5</th>\n",
       "      <th>Param6</th>\n",
       "      <th>Param7</th>\n",
       "      <th>Label1</th>\n",
       "      <th>Label2</th>\n",
       "    </tr>\n",
       "  </thead>\n",
       "  <tbody>\n",
       "    <tr>\n",
       "      <th>0</th>\n",
       "      <td>8198000001</td>\n",
       "      <td>0</td>\n",
       "      <td>0</td>\n",
       "      <td>0</td>\n",
       "      <td>0</td>\n",
       "      <td>0</td>\n",
       "      <td>0</td>\n",
       "      <td>0</td>\n",
       "      <td>0</td>\n",
       "      <td>0</td>\n",
       "      <td>...</td>\n",
       "      <td>0</td>\n",
       "      <td>12.6549</td>\n",
       "      <td>5</td>\n",
       "      <td>0.463842</td>\n",
       "      <td>1</td>\n",
       "      <td>3812</td>\n",
       "      <td>83</td>\n",
       "      <td>0.01</td>\n",
       "      <td>A</td>\n",
       "      <td>10</td>\n",
       "    </tr>\n",
       "    <tr>\n",
       "      <th>1</th>\n",
       "      <td>8198000002</td>\n",
       "      <td>0</td>\n",
       "      <td>0</td>\n",
       "      <td>0</td>\n",
       "      <td>0</td>\n",
       "      <td>0</td>\n",
       "      <td>0</td>\n",
       "      <td>0</td>\n",
       "      <td>0</td>\n",
       "      <td>0</td>\n",
       "      <td>...</td>\n",
       "      <td>0</td>\n",
       "      <td>12.2765</td>\n",
       "      <td>5</td>\n",
       "      <td>0.644139</td>\n",
       "      <td>1</td>\n",
       "      <td>2891</td>\n",
       "      <td>99</td>\n",
       "      <td>0.01</td>\n",
       "      <td>A</td>\n",
       "      <td>10</td>\n",
       "    </tr>\n",
       "  </tbody>\n",
       "</table>\n",
       "<p>2 rows × 1961 columns</p>\n",
       "</div>"
      ],
      "text/plain": [
       "         USID  0  1  2  3  4  5  6  7  8  ...  1950   Param1  Param2  \\\n",
       "0  8198000001  0  0  0  0  0  0  0  0  0  ...     0  12.6549       5   \n",
       "1  8198000002  0  0  0  0  0  0  0  0  0  ...     0  12.2765       5   \n",
       "\n",
       "     Param3  Param4  Param5  Param6  Param7  Label1  Label2  \n",
       "0  0.463842       1    3812      83    0.01       A      10  \n",
       "1  0.644139       1    2891      99    0.01       A      10  \n",
       "\n",
       "[2 rows x 1961 columns]"
      ]
     },
     "execution_count": 13,
     "metadata": {},
     "output_type": "execute_result"
    }
   ],
   "source": [
    "##added by Vic\n",
    "dataset = pd.read_csv('ml_data_damaday_final_VDP.csv')  \n",
    "dataset.head(2)"
   ]
  },
  {
   "cell_type": "markdown",
   "metadata": {},
   "source": [
    "### Analysis of the Columns (USID, Mass Spec, Params, Labels)"
   ]
  },
  {
   "cell_type": "code",
   "execution_count": 14,
   "metadata": {},
   "outputs": [
    {
     "name": "stdout",
     "output_type": "stream",
     "text": [
      "['Param1', 'Param2', 'Param3', 'Param4', 'Param5', 'Param6', 'Param7', 'Label1', 'Label2']\n",
      "        Param1  Param2    Param3  Param4  Param5  Param6     Param7\n",
      "0      12.6549       5  0.463842       1    3812      83   0.010000\n",
      "1      12.2765       5  0.644139       1    2891      99   0.010000\n",
      "2      12.7667       5  0.417654       1    2720     102   0.010000\n",
      "3      12.4442       5  0.712478       1    1961      86   0.010000\n",
      "4      13.1107       5  0.566622       1    2652      98   0.010000\n",
      "...        ...     ...       ...     ...     ...     ...        ...\n",
      "26680  50.5495       1  0.000000       1     767      13  35.279999\n",
      "26681  50.5172       1  0.000000       1     635      11  35.619999\n",
      "26682  50.5172       1  0.000000       1     676      13  33.009998\n",
      "26683  50.5495       1  0.000000       1     757      13  31.400000\n",
      "26684  50.5172       1  0.000000       1     686      15  31.540001\n",
      "\n",
      "[26685 rows x 7 columns]\n",
      "XmassSpec.shape (26685, 1951)\n"
     ]
    }
   ],
   "source": [
    "###Columns names\n",
    "columns_names = dataset.columns.tolist()\n",
    "print(columns_names[-9:])\n",
    "\n",
    "###Parameters\n",
    "listAllParams = columns_names[-9:-2]\n",
    "nberParams = len(listAllParams)\n",
    "dataset_params = dataset[listAllParams]\n",
    "print(dataset_params)\n",
    "\n",
    "###Y values (2 options for the labels)\n",
    "y_1 = dataset.Label1\n",
    "y_2 = dataset.Label2\n",
    "\n",
    "###Define X values (all the dataset, only mass spec data, mass spec data + params)\n",
    "Xall = dataset.drop(['Label1','Label2'],axis=1) #all data\n",
    "XnoUSID = Xall.drop(['USID'],axis=1) #all data without USID\n",
    "XmassSpec = XnoUSID.drop(listAllParams, axis=1) #just mass spec data\n",
    "print(\"XmassSpec.shape\",XmassSpec.shape)"
   ]
  },
  {
   "cell_type": "code",
   "execution_count": null,
   "metadata": {},
   "outputs": [],
   "source": [
    "# n, bins, patches = plt.hist(dataset.Label1)\n",
    "# plt.xlabel('Label1')\n",
    "# plt.ylabel('Count')\n",
    "# plt.show()"
   ]
  },
  {
   "cell_type": "markdown",
   "metadata": {},
   "source": [
    "### Define your inputs X and Y"
   ]
  },
  {
   "cell_type": "code",
   "execution_count": 15,
   "metadata": {},
   "outputs": [
    {
     "name": "stdout",
     "output_type": "stream",
     "text": [
      "   0  1  2  3  4  5  6  7  8  9  ...  1948  1949  1950   Param1  Param2  \\\n",
      "0  0  0  0  0  0  0  0  0  0  0  ...     0     0     0  12.6549       5   \n",
      "1  0  0  0  0  0  0  0  0  0  0  ...     0     0     0  12.2765       5   \n",
      "2  0  0  0  0  0  0  0  0  0  0  ...     0     0     0  12.7667       5   \n",
      "3  0  0  0  0  0  0  0  0  0  0  ...     0     0     0  12.4442       5   \n",
      "4  0  0  0  0  0  0  0  0  0  0  ...     0     0     0  13.1107       5   \n",
      "5  0  0  0  0  0  0  0  0  0  0  ...     0     0     0  12.3281       5   \n",
      "6  0  0  0  0  0  0  0  0  0  0  ...     0     0     0  12.9860       5   \n",
      "7  0  0  0  0  0  0  0  0  0  0  ...     0     0     0  13.0204       5   \n",
      "8  0  0  0  0  0  0  0  0  0  0  ...     0     0     0  12.9817       5   \n",
      "9  0  0  0  0  0  0  0  0  0  0  ...     0     0     0  13.0290       5   \n",
      "\n",
      "     Param3  Param4  Param5  Param6  Param7  \n",
      "0  0.463842       1    3812      83    0.01  \n",
      "1  0.644139       1    2891      99    0.01  \n",
      "2  0.417654       1    2720     102    0.01  \n",
      "3  0.712478       1    1961      86    0.01  \n",
      "4  0.566622       1    2652      98    0.01  \n",
      "5  0.979381       1    2013     133    0.01  \n",
      "6  0.576585       1    2085     110    0.01  \n",
      "7  0.603166       1    1737      89    0.01  \n",
      "8  0.295232       1    1301      58    0.01  \n",
      "9  0.700253       1    1177      67    0.01  \n",
      "\n",
      "[10 rows x 1958 columns]\n",
      "6\n"
     ]
    }
   ],
   "source": [
    "###Here you select the params you want to remove \n",
    "listParams = [] #no params to remove\n",
    "#listParams = [\"Param1\", \"Param2\"] #if you want to remove Param1 and Param2\n",
    "\n",
    "\n",
    "def getRawXy(dataset, listParams, y): #Vic updated this function\n",
    "    #Which input data X do you want to use?\n",
    "    X = XnoUSID.drop([param for param in listParams], axis=1)\n",
    "    inputSize = X.shape[1]\n",
    "    print(X[:10])\n",
    "    \n",
    "    nb_categories = len(pd.unique(y))\n",
    "    print(nb_categories)\n",
    "\n",
    "    return X, y, XmassSpec, nb_categories\n",
    "\n",
    "X, y, XmassSpec, nb_categories = getRawXy(dataset, listParams, y_1)"
   ]
  },
  {
   "cell_type": "markdown",
   "metadata": {},
   "source": [
    "### Plot some mass specs"
   ]
  },
  {
   "cell_type": "code",
   "execution_count": 16,
   "metadata": {
    "scrolled": true
   },
   "outputs": [
    {
     "data": {
      "image/png": "[encoded data removed]",
      "text/plain": [
       "<Figure size 432x288 with 1 Axes>"
      ]
     },
     "metadata": {
      "needs_background": "light"
     },
     "output_type": "display_data"
    },
    {
     "data": {
      "image/png": "[encoded data removed]",
      "text/plain": [
       "<Figure size 432x288 with 1 Axes>"
      ]
     },
     "metadata": {
      "needs_background": "light"
     },
     "output_type": "display_data"
    },
    {
     "data": {
      "image/png": "[encoded data removed]",
      "text/plain": [
       "<Figure size 432x288 with 1 Axes>"
      ]
     },
     "metadata": {
      "needs_background": "light"
     },
     "output_type": "display_data"
    },
    {
     "data": {
      "image/png": "[encoded data removed]",
      "text/plain": [
       "<Figure size 432x288 with 1 Axes>"
      ]
     },
     "metadata": {
      "needs_background": "light"
     },
     "output_type": "display_data"
    },
    {
     "data": {
      "image/png": "[encoded data removed]",
      "text/plain": [
       "<Figure size 432x288 with 1 Axes>"
      ]
     },
     "metadata": {
      "needs_background": "light"
     },
     "output_type": "display_data"
    },
    {
     "data": {
      "image/png": "[encoded data removed]",
      "text/plain": [
       "<Figure size 432x288 with 1 Axes>"
      ]
     },
     "metadata": {
      "needs_background": "light"
     },
     "output_type": "display_data"
    },
    {
     "data": {
      "image/png": "[encoded data removed]",
      "text/plain": [
       "<Figure size 432x288 with 1 Axes>"
      ]
     },
     "metadata": {
      "needs_background": "light"
     },
     "output_type": "display_data"
    },
    {
     "data": {
      "image/png": "[encoded data removed]",
      "text/plain": [
       "<Figure size 432x288 with 1 Axes>"
      ]
     },
     "metadata": {
      "needs_background": "light"
     },
     "output_type": "display_data"
    },
    {
     "data": {
      "image/png": "[encoded data removed]",
      "text/plain": [
       "<Figure size 432x288 with 1 Axes>"
      ]
     },
     "metadata": {
      "needs_background": "light"
     },
     "output_type": "display_data"
    },
    {
     "data": {
      "image/png": "[encoded data removed]",
      "text/plain": [
       "<Figure size 432x288 with 1 Axes>"
      ]
     },
     "metadata": {
      "needs_background": "light"
     },
     "output_type": "display_data"
    }
   ],
   "source": [
    "#Mass spec data only\n",
    "XmassSpec_df = X.drop(['Param1', 'Param2', 'Param3', 'Param4','Param5', 'Param6', 'Param7'], axis=1) \n",
    "\n",
    "def plot_oneSpectra(i, XmassSpec_df, y):\n",
    "    onemassSpec=XmassSpec_df.iloc[i]\n",
    "    onelabel=y[i]\n",
    "    plt.text(1250, 1, 'Actual label: {}'.format(str(y[i])))\n",
    "    ax=onemassSpec.plot()\n",
    "    ax.set_ylabel('Abundance')\n",
    "    ax.set_xlabel('M/Z')\n",
    "    plt.show()\n",
    "    \n",
    "for i in range(1,100,10):\n",
    "    plot_oneSpectra(i, XmassSpec_df, y)"
   ]
  },
  {
   "cell_type": "markdown",
   "metadata": {},
   "source": [
    "## Processing our data for ML approach"
   ]
  },
  {
   "cell_type": "markdown",
   "metadata": {},
   "source": [
    "### Encode the labels as integer values"
   ]
  },
  {
   "cell_type": "code",
   "execution_count": 17,
   "metadata": {},
   "outputs": [
    {
     "name": "stdout",
     "output_type": "stream",
     "text": [
      "['0 : A']\n",
      "['1 : B']\n",
      "['2 : C']\n",
      "['3 : D']\n",
      "['4 : E']\n",
      "['5 : F']\n"
     ]
    }
   ],
   "source": [
    "#Victoria's 6 column Y\n",
    "#TO REWORK VIC\n",
    "#Victoria's 6 column Y\n",
    "\n",
    "def encoder(dataToEncode): #encode label values (label1 label2) as integer values\n",
    "    #Soyoung add comment-Label\n",
    "    encoder = LabelEncoder()\n",
    "    encoded_Y = encoder.fit_transform(dataToEncode)\n",
    "    print(\"encoded_Y\", encoded_Y.shape, encoded_Y[:2])\n",
    "    classes = encoder.classes_\n",
    "    # convert the vector of integers to dummy variables (i.e. one hot encoded) \n",
    "    onehot_encoder = OneHotEncoder(sparse=False)\n",
    "    integer_encoded = encoded_Y.reshape(len(encoded_Y), 1) #Soyoung commented out for 1DCNN training\n",
    "    Y = onehot_encoder.fit_transform(integer_encoded)\n",
    "    return(Y) #Soyoung changed from original Y(Onehotencoder) to encoded_Y(labelEncoder)\n",
    "\n",
    "def printEncodertoLabels(dataToEncode): # print the relations between the class values and the encoded integers\n",
    "    nb_categories = len(pd.unique(dataToEncode))\n",
    "    encoder = LabelEncoder()\n",
    "    encoded_Y = encoder.fit_transform(dataToEncode)\n",
    "    for i in range(nb_categories):\n",
    "        print(str(i) + \" : \" + encoder.inverse_transform([i]))\n",
    "        \n",
    "printEncodertoLabels(y)\n",
    "\n",
    "\n",
    "#Soyoung to transform from raw ABCD y to 1 column integer classfication y\n",
    "def getLabelEncodedy(y):\n",
    "    encoder_l = LabelEncoder()\n",
    "    encoded_y = encoder_l.fit_transform(y)\n",
    "    #print(\"encoded_y\", encoded_y.shape, encoded_y[:10])    \n",
    "    return encoded_y\n",
    "\n",
    "yencoded=getLabelEncodedy(y)"
   ]
  },
  {
   "cell_type": "code",
   "execution_count": 18,
   "metadata": {
    "scrolled": true
   },
   "outputs": [],
   "source": [
    "# ### check clasification distribution\n",
    "# n, bins, patches = plt.hist(y)\n",
    "# plt.xlabel('Label1')\n",
    "# plt.ylabel('Count')\n",
    "# plt.show()"
   ]
  },
  {
   "cell_type": "markdown",
   "metadata": {},
   "source": [
    "### Let's split the dataset into training, testing sets."
   ]
  },
  {
   "cell_type": "code",
   "execution_count": 19,
   "metadata": {},
   "outputs": [
    {
     "name": "stdout",
     "output_type": "stream",
     "text": [
      "   0  1  2  3  4  5  6  7  8  9  ...  1948  1949  1950   Param1  Param2  \\\n",
      "0  0  0  0  0  0  0  0  0  0  0  ...     0     0     0  12.6549       5   \n",
      "1  0  0  0  0  0  0  0  0  0  0  ...     0     0     0  12.2765       5   \n",
      "2  0  0  0  0  0  0  0  0  0  0  ...     0     0     0  12.7667       5   \n",
      "3  0  0  0  0  0  0  0  0  0  0  ...     0     0     0  12.4442       5   \n",
      "4  0  0  0  0  0  0  0  0  0  0  ...     0     0     0  13.1107       5   \n",
      "5  0  0  0  0  0  0  0  0  0  0  ...     0     0     0  12.3281       5   \n",
      "6  0  0  0  0  0  0  0  0  0  0  ...     0     0     0  12.9860       5   \n",
      "7  0  0  0  0  0  0  0  0  0  0  ...     0     0     0  13.0204       5   \n",
      "8  0  0  0  0  0  0  0  0  0  0  ...     0     0     0  12.9817       5   \n",
      "9  0  0  0  0  0  0  0  0  0  0  ...     0     0     0  13.0290       5   \n",
      "\n",
      "     Param3  Param4  Param5  Param6  Param7  \n",
      "0  0.463842       1    3812      83    0.01  \n",
      "1  0.644139       1    2891      99    0.01  \n",
      "2  0.417654       1    2720     102    0.01  \n",
      "3  0.712478       1    1961      86    0.01  \n",
      "4  0.566622       1    2652      98    0.01  \n",
      "5  0.979381       1    2013     133    0.01  \n",
      "6  0.576585       1    2085     110    0.01  \n",
      "7  0.603166       1    1737      89    0.01  \n",
      "8  0.295232       1    1301      58    0.01  \n",
      "9  0.700253       1    1177      67    0.01  \n",
      "\n",
      "[10 rows x 1958 columns]\n",
      "6\n",
      "(21348, 1958) (5337, 1958) (21348,) (5337,)\n"
     ]
    }
   ],
   "source": [
    "###Split dataset ratios\n",
    "train_test_ratio = 0.2 #80% is used for the training\n",
    "test_val_ratio = 0.5 #Half for validation, half for testing\n",
    "\n",
    "def preprocess_dataset(dataset, y):\n",
    "    X, y, XmassSpec, nb_labels = getRawXy(dataset, listParams, y)\n",
    "    yencoded=getLabelEncodedy(y)\n",
    "    X_train, X_test, Y_train, Y_test = train_test_split(X, yencoded, test_size=train_test_ratio)\n",
    "    return X_train, X_test, Y_train, Y_test\n",
    "\n",
    "X_train, X_test, Y_train, Y_test = preprocess_dataset(dataset, y)\n",
    "print(X_train.shape, X_test.shape,Y_train.shape, Y_test.shape)"
   ]
  },
  {
   "cell_type": "markdown",
   "metadata": {},
   "source": [
    "# Classification Approach and Outlier Detection Problem\n",
    "\n",
    "The purpose of the following is to provide the audience a structure for several tasks / subtasks that could be investigated during the workshop. It is to facilitate each participant to jump on the task they are interested into!"
   ]
  },
  {
   "cell_type": "markdown",
   "metadata": {},
   "source": [
    "### SOYOUNG, do you think we could put this at the end of the notebook, so people dont go study and read all these links during the workshop? and so you can jump directly on the ideas you developed??\n",
    "\n",
    "\n",
    "The following example approaches (TO DO part) are provided by   \n",
    "Soyoung Park, Data Scientist at Lam Research  \n",
    "Email: soyoung.park.mse@gmail.com\n",
    "\n",
    "#### Various approaches in high level\n",
    "1. [machine learning based](https://machinelearningmastery.com/model-based-outlier-detection-and-removal-in-python/)\n",
    "\n",
    "##### Outlier Detection and Removal  \n",
    "\n",
    "Dataset and Performance Baseline  \n",
    " -  House Price Regression Dataset  \n",
    " -  Baseline Model Performance  \n",
    "\n",
    "Automatic Outlier Detection  \n",
    " -  Isolation Forest  \n",
    " -  Minimum Covariance Determinant  \n",
    " -  Local Outlier Factor  \n",
    " -  One-Class SVM  \n",
    "\n",
    "[sklearn code is here](https://scikit-learn.org/stable/modules/outlier_detection.html)\n",
    "\n",
    "\n",
    "2. [DEEP LEARNING FOR ANOMALY DETECTION: A SURVEY](https://arxiv.org/pdf/1901.03407.pdf)\n",
    "Potential flow #1\n",
    "Step 1. Feature extraction to a single number per scan based on (ref 1)  \n",
    "Step 2. Multiclass classification (ref 2)  \n",
    "Step 3. Show probability of each class \n",
    "\n",
    "Potential flow #2\n",
    "Step 1. Feature extraction to a single number per scan based on (ref 1)  \n",
    "Step 2. show probability off of clusters (ref 3)  \n",
    "\n",
    "(ref 1) [PCA-Kmeans/GMM clustering](https://github.com/parksoy/Udacity_nanoDegree_MachineLearning/blob/master/customer_segments/customer_segments.ipynb)  \n",
    "\n",
    "(ref 2) [ML Classifier based](https://github.com/parksoy/Udacity_nanoDegree_MachineLearning/blob/master/finding_donors/finding_donors.ipynb)\n",
    " - randomforest classifier  \n",
    " - decision tree classifier  \n",
    " - SVC  \n",
    " - Radial Basis Function (RBF)\n",
    "\n",
    "(ref 3) [Univariate Outlier detection -statistically](https://towardsdatascience.com/a-complete-anomaly-detection-algorithm-from-scratch-in-python-step-by-step-guide-e1daf870336e)  "
   ]
  },
  {
   "cell_type": "markdown",
   "metadata": {},
   "source": [
    "### Multiclassification Problem \n",
    "##### Define your model"
   ]
  },
  {
   "cell_type": "code",
   "execution_count": 20,
   "metadata": {},
   "outputs": [
    {
     "name": "stdout",
     "output_type": "stream",
     "text": [
      "Model: \"sequential\"\n",
      "_________________________________________________________________\n",
      "Layer (type)                 Output Shape              Param #   \n",
      "=================================================================\n",
      "reshape (Reshape)            (None, 1958, 1)           0         \n",
      "_________________________________________________________________\n",
      "conv1d (Conv1D)              (None, 1949, 64)          704       \n",
      "_________________________________________________________________\n",
      "flatten (Flatten)            (None, 124736)            0         \n",
      "_________________________________________________________________\n",
      "dense (Dense)                (None, 6)                 748422    \n",
      "=================================================================\n",
      "Total params: 749,126\n",
      "Trainable params: 749,126\n",
      "Non-trainable params: 0\n",
      "_________________________________________________________________\n"
     ]
    }
   ],
   "source": [
    "#Without manual feature engineering/dimentionlity reduction  \n",
    "#Main reference: https://blog.goodaudience.com/introduction-to-1d-convolutional-neural-networks-in-keras-for-time-sequences-3a7ff801a2c\n",
    "        \n",
    "import tensorflow as tf\n",
    "from tensorflow.keras import datasets, layers, models\n",
    "from tensorflow.keras.models import Sequential\n",
    "from tensorflow.keras.layers import Dense, Conv1D, Reshape,BatchNormalization\n",
    "from tensorflow.keras.layers import Flatten\n",
    "from tensorflow.keras.layers import Dropout \n",
    "from tensorflow.keras.utils import to_categorical\n",
    "from tensorflow.keras.wrappers.scikit_learn import KerasClassifier\n",
    "from sklearn.model_selection import cross_val_score \n",
    "from sklearn.model_selection import KFold\n",
    "from tensorflow.keras.callbacks import EarlyStopping\n",
    "from tensorflow.keras.callbacks import ModelCheckpoint\n",
    "import matplotlib.pyplot as plt\n",
    "\n",
    "#X_train: (21348, 1958)\n",
    "#Y_train: (21348, )\n",
    "n_spectrastep=X_train.shape[1]\n",
    "num_sensors=1\n",
    "output_classes=to_categorical(Y_train).shape[1]\n",
    "\n",
    "def baseline_model(output_classes):\n",
    "    #Simplest 1 layer 1DCNN\n",
    "    model0 = models.Sequential()\n",
    "    model0.add(Reshape((n_spectrastep, num_sensors), input_shape=(n_spectrastep,)))\n",
    "    model0.add(Conv1D(filters=64, kernel_size=10, activation='relu')) \n",
    "    model0.add(Flatten()) \n",
    "    model0.add(Dense(output_classes,  activation='softmax'))\n",
    "    model0.summary()\n",
    "    return model0\n",
    "\n",
    "model0=baseline_model(output_classes)"
   ]
  },
  {
   "cell_type": "markdown",
   "metadata": {},
   "source": [
    "### Soyoung, what do you think if we put references at the end or in another doc in parallel\n",
    "References\n",
    "https://www.datacamp.com/community/tutorials/cnn-tensorflow-python\n",
    "https://www.tensorflow.org/guide/keras/sequential_model  \n",
    "https://www.tensorflow.org/tutorials/images/cnn  \n",
    "https://machinelearningmastery.com/how-to-make-classification-and-regression-predictions-for-deep-learning-models-in-keras/  \n",
    "https://machinelearningmastery.com/multi-class-classification-tutorial-keras-deep-learning-library/  \n",
    "https://machinelearningmastery.com/cnn-models-for-human-activity-recognition-time-series-classification/  "
   ]
  },
  {
   "cell_type": "markdown",
   "metadata": {},
   "source": [
    "##### Train the model"
   ]
  },
  {
   "cell_type": "code",
   "execution_count": 21,
   "metadata": {},
   "outputs": [
    {
     "name": "stdout",
     "output_type": "stream",
     "text": [
      "Epoch 1/3\n",
      "500/501 [============================>.] - ETA: 0s - loss: 2.1116 - accuracy: 0.8106\n",
      "Epoch 00001: val_loss improved from inf to 1.04752, saving model to training_1/cp.ckpt\n",
      "501/501 [==============================] - 11s 23ms/step - loss: 2.1106 - accuracy: 0.8105 - val_loss: 1.0475 - val_accuracy: 0.8100\n",
      "Epoch 2/3\n",
      "499/501 [============================>.] - ETA: 0s - loss: 0.4272 - accuracy: 0.8968\n",
      "Epoch 00002: val_loss improved from 1.04752 to 0.28729, saving model to training_1/cp.ckpt\n",
      "501/501 [==============================] - 13s 26ms/step - loss: 0.4270 - accuracy: 0.8969 - val_loss: 0.2873 - val_accuracy: 0.9020\n",
      "Epoch 3/3\n",
      "500/501 [============================>.] - ETA: 0s - loss: 0.2335 - accuracy: 0.9298\n",
      "Epoch 00003: val_loss improved from 0.28729 to 0.28416, saving model to training_1/cp.ckpt\n",
      "501/501 [==============================] - 15s 30ms/step - loss: 0.2333 - accuracy: 0.9298 - val_loss: 0.2842 - val_accuracy: 0.9166\n"
     ]
    }
   ],
   "source": [
    "BATCH_SIZE=32\n",
    "SEED=42\n",
    "\n",
    "# save model\n",
    "checkpoint_path = \"training_1/cp.ckpt\"\n",
    "checkpoint_dir = os.path.dirname(checkpoint_path)\n",
    "\n",
    "# Create a callback that saves the model's weights\n",
    "cp_callback = tf.keras.callbacks.ModelCheckpoint(filepath=checkpoint_path,\n",
    "                                                 save_weights_only=True,\n",
    "                                                 save_best_only=True,\n",
    "                                                 verbose=1)\n",
    "\n",
    "##################\n",
    "#[1] Onetime fit  \n",
    "#https://shrikar.com/deep-learning-with-keras-and-python-for-multiclass-classification/\n",
    "##################\n",
    " \n",
    "def fit(model, EPOCHS):\n",
    "    model.compile(optimizer='adam', loss='categorical_crossentropy', metrics=['accuracy'])\n",
    "    history = model.fit([X_train], \n",
    "                            batch_size=BATCH_SIZE, \n",
    "                            y=to_categorical(Y_train), \\\n",
    "                            verbose=1, \\\n",
    "                            validation_split=0.25, \n",
    "                            shuffle=True, \n",
    "                            epochs=EPOCHS, \n",
    "                            callbacks=[cp_callback])\n",
    "    return history\n",
    "\n",
    "history0=fit(model0, EPOCHS=3)  \n",
    "\n",
    "\n",
    "##################\n",
    "#[2] Cross validation\n",
    "#https://machinelearningmastery.com/multi-class-classification-tutorial-keras-deep-learning-library/\n",
    "# ##################\n",
    "# estimator = KerasClassifier(build_fn=baseline_model, \\\n",
    "#                             epochs=1, batch_size=BATCH_SIZE, verbose=1)\n",
    "\n",
    "# kfold = KFold(n_splits=3, shuffle=True, random_state=SEED)\n",
    "# results = cross_val_score(estimator, X_train, Y_train, cv=kfold)\n",
    "# print(\"Baseline: %.2f%% (%.2f%%)\" % (results.mean()*100, results.std()*100))\n",
    "# ##################"
   ]
  },
  {
   "cell_type": "markdown",
   "metadata": {},
   "source": [
    "##### Evaluate the model\n",
    "\n",
    "### Soyoung, I could not plot the accuracy here"
   ]
  },
  {
   "cell_type": "code",
   "execution_count": 22,
   "metadata": {},
   "outputs": [
    {
     "name": "stdout",
     "output_type": "stream",
     "text": [
      "167/167 - 1s - loss: 0.2776 - accuracy: 0.9176\n",
      "Restored model, accuracy: 91.76%\n"
     ]
    },
    {
     "data": {
      "image/png": "[encoded data removed]",
      "text/plain": [
       "<Figure size 432x288 with 1 Axes>"
      ]
     },
     "metadata": {
      "needs_background": "light"
     },
     "output_type": "display_data"
    }
   ],
   "source": [
    "#plot accuracy, loss during training and validation\n",
    "def plot_history(history):\n",
    "    plt.plot(history.history['accuracy'], label='accuracy')\n",
    "    plt.plot(history.history['val_accuracy'], label = 'val_accuracy')\n",
    "    plt.xlabel('Epoch')\n",
    "    plt.ylabel('Accuracy')\n",
    "    plt.legend(loc='lower right')\n",
    "     \n",
    "plot_history(history0)\n",
    "\n",
    "loss, acc = model0.evaluate(X_test,  to_categorical(Y_test), verbose=2)\n",
    "print('Restored model, accuracy: {:5.2f}%'.format(100*acc))"
   ]
  },
  {
   "cell_type": "markdown",
   "metadata": {},
   "source": [
    "##### Save the model (HDF5 file) - retrieve the model"
   ]
  },
  {
   "cell_type": "code",
   "execution_count": 23,
   "metadata": {},
   "outputs": [
    {
     "name": "stdout",
     "output_type": "stream",
     "text": [
      "total 1103848\r\n",
      "-rw-r--r--@ 1 soyoungpark  staff  110976485 Sep 24 10:48 ml_data_damaday.csv\r\n",
      "-rw-r--r--@ 1 soyoungpark  staff  190712153 Sep 29 16:16 DataScienceUMDTalk_MOMAML_1505 (1).pptx\r\n",
      "-rw-r--r--@ 1 soyoungpark  staff       1069 Oct  6 19:00 LICENSE\r\n",
      "-rw-r--r--  1 soyoungpark  staff       2341 Oct  7 09:37 README.md\r\n",
      "-rw-r--r--@ 1 soyoungpark  staff  111324662 Oct  7 13:05 SpectraInArrayInOneColumn.csv\r\n",
      "-rw-r--r--@ 1 soyoungpark  staff  107698487 Oct  8 15:13 ml_data_damaday_final_VDP.csv\r\n",
      "-rw-r--r--@ 1 soyoungpark  staff     145138 Oct  8 19:25 SoyoungEDALocal.ipynb\r\n",
      "-rw-r--r--@ 1 soyoungpark  staff     128729 Oct  9 08:28 NotebookWorkshop_VDP.ipynb\r\n",
      "drwxr-xr-x  5 soyoungpark  staff        160 Oct 12 07:09 \u001b[34mtraining_1\u001b[m\u001b[m\r\n",
      "-rw-r--r--@ 1 soyoungpark  staff     869507 Oct 15 06:02 SoyoungAppendToVDP.ipynb\r\n",
      "drwxr-xr-x  3 soyoungpark  staff         96 Oct 15 06:46 \u001b[34msaved_model\u001b[m\u001b[m\r\n",
      "-rw-r--r--  1 soyoungpark  staff        555 Oct 15 12:18 encoderAnomalytest.ipynb\r\n",
      "-rw-r--r--  1 soyoungpark  staff     225612 Oct 16 11:25 Compare All Models.ipynb\r\n",
      "-rw-r--r--  1 soyoungpark  staff       9343 Oct 16 12:08 requirements.txt\r\n",
      "-rw-r--r--@ 1 soyoungpark  staff     510481 Oct 16 13:47 IwillbeOfficial_FromLocal_Soyoung.ipynb\r\n",
      "-rw-r--r--@ 1 soyoungpark  staff     165937 Oct 16 13:48 IwillbeOfficial_FromLocal_Soyoung_Vic.ipynb\r\n",
      "-rw-r--r--  1 soyoungpark  staff    9017584 Oct 16 13:49 my_model0.h5\r\n"
     ]
    }
   ],
   "source": [
    "# The '.h5' extension indicates that the model should be saved to HDF5.\n",
    "model0.save('my_model0.h5') \n",
    "\n",
    "! ls -lrt"
   ]
  },
  {
   "cell_type": "code",
   "execution_count": 24,
   "metadata": {},
   "outputs": [
    {
     "name": "stdout",
     "output_type": "stream",
     "text": [
      "Model: \"sequential\"\n",
      "_________________________________________________________________\n",
      "Layer (type)                 Output Shape              Param #   \n",
      "=================================================================\n",
      "reshape (Reshape)            (None, 1958, 1)           0         \n",
      "_________________________________________________________________\n",
      "conv1d (Conv1D)              (None, 1949, 64)          704       \n",
      "_________________________________________________________________\n",
      "flatten (Flatten)            (None, 124736)            0         \n",
      "_________________________________________________________________\n",
      "dense (Dense)                (None, 6)                 748422    \n",
      "=================================================================\n",
      "Total params: 749,126\n",
      "Trainable params: 749,126\n",
      "Non-trainable params: 0\n",
      "_________________________________________________________________\n"
     ]
    }
   ],
   "source": [
    "# Recreate the exact same model, including its weights and the optimizer\n",
    "pretrained_model = tf.keras.models.load_model('my_model0.h5')\n",
    "\n",
    "# Show the model architecture\n",
    "pretrained_model.summary()"
   ]
  },
  {
   "cell_type": "code",
   "execution_count": 25,
   "metadata": {},
   "outputs": [
    {
     "name": "stdout",
     "output_type": "stream",
     "text": [
      "167/167 - 1s - loss: 0.2776 - accuracy: 0.9176\n",
      "Restored model, accuracy: 91.76%\n"
     ]
    }
   ],
   "source": [
    "#confirm, pretrained model is performaing the same way as when it was trained.\n",
    "loss, acc = pretrained_model.evaluate(X_test,  to_categorical(Y_test), verbose=2)\n",
    "print('Restored model, accuracy: {:5.2f}%'.format(100*acc))"
   ]
  },
  {
   "cell_type": "code",
   "execution_count": 26,
   "metadata": {},
   "outputs": [
    {
     "data": {
      "image/png": "[encoded data removed]",
      "text/plain": [
       "<Figure size 432x288 with 1 Axes>"
      ]
     },
     "metadata": {
      "needs_background": "light"
     },
     "output_type": "display_data"
    },
    {
     "name": "stdout",
     "output_type": "stream",
     "text": [
      "For sample i = 3309 predicted Label [0 1 2 3 4 5]: 4\n",
      "Accuracy score: 0.9175566797826494\n"
     ]
    }
   ],
   "source": [
    "#inter a class/label for a random Xtest data\n",
    "from sklearn.metrics import accuracy_score\n",
    "\n",
    "XmassSpec_df=X_test.drop(['Param1', 'Param2', 'Param3', 'Param4','Param5', 'Param6', 'Param7'], axis=1) \n",
    "\n",
    "# plot one test sample spectra\n",
    "i=np.random.randint(len(X_test))\n",
    "plot_oneSpectra(i, XmassSpec_df, y)\n",
    "    \n",
    "# Infer with the pre-trained model    \n",
    "predicted = pretrained_model.predict(X_test)\n",
    "predicted = np.argmax(predicted, axis=1)\n",
    " \n",
    "# print(\"For sample i =\", i, \"predicted Label [0,1,2,3,4,5]:\", predicted[i])\n",
    "print(\"For sample i =\", i, \"predicted Label {}:\".format(np.unique(yencoded)), predicted[i])\n",
    "print(\"Accuracy score:\", accuracy_score(Y_test, predicted)); "
   ]
  },
  {
   "cell_type": "markdown",
   "metadata": {},
   "source": [
    "##### Improve model (architecture, hyperparameters tuning, ...)"
   ]
  },
  {
   "cell_type": "code",
   "execution_count": null,
   "metadata": {},
   "outputs": [],
   "source": [
    "## Architecture of the model\n",
    "\n",
    "def build_improved_model(output_classes):\n",
    "    model1= models.Sequential()\n",
    "    model1.add(Reshape((n_spectrastep, num_sensors), input_shape=(n_spectrastep,)))\n",
    "    model1.add(BatchNormalization())\n",
    "    model1.add(Conv1D(filters=256, kernel_size=3, activation='relu', \\\n",
    "                    input_shape=(n_spectrastep,num_sensors))) \n",
    "    model1.add(Conv1D(filters=64, kernel_size=3, activation='relu', \\\n",
    "                    input_shape=(n_spectrastep,num_sensors))) \n",
    "    model1.add(BatchNormalization())\n",
    "    model1.add(Dropout(0.5))\n",
    "    model1.add(Flatten()) \n",
    "    model1.add(Dense(output_classes, activation='softmax'))   \n",
    "    model1.summary()\n",
    "    return model1\n",
    "\n",
    "model1=build_improved_model(output_classes)\n",
    "history1=fit(model1, EPOCHS=2) #Check if model runs or not with EPOCHS=1 first, then, increase EPOCHS.\n",
    "plot_history(history1)"
   ]
  },
  {
   "cell_type": "code",
   "execution_count": null,
   "metadata": {},
   "outputs": [],
   "source": [
    "## Hyperparameters tuning\n",
    "\n",
    "# (1) define default hyperparameters you want to optimize\n",
    "class Args:\n",
    "    #learning\n",
    "    BATCH_SIZE=32\n",
    "    EPOCHS=3\n",
    "    \n",
    "    #1DCNN\n",
    "    NumFilter1DCNN=64\n",
    "    KERNEL_SIZE=3\n",
    "    \n",
    "args=Args()\n",
    "\n",
    "# (2) parameterize all hyperparameters \n",
    "def build_improved_model_parameterized(output_classes):\n",
    "    model2= models.Sequential()\n",
    "    model2.add(Reshape((n_spectrastep, num_sensors), input_shape=(n_spectrastep,)))\n",
    "    model2.add(BatchNormalization())\n",
    "    model2.add(Conv1D(filters=256, kernel_size=3, activation='relu', \\\n",
    "                    input_shape=(n_spectrastep,num_sensors))) \n",
    "    model2.add(Conv1D(filters=64, kernel_size=3, activation='relu', \\\n",
    "                    input_shape=(n_spectrastep,num_sensors))) \n",
    "    model2.add(BatchNormalization())\n",
    "    model2.add(Dropout(0.5))\n",
    "    model2.add(Flatten()) \n",
    "    model2.add(Dense(output_classes, activation='softmax'))   \n",
    "    model2.summary()\n",
    "    return model2\n",
    "\n",
    "#(3) train the model with many different combination of hyperparameters either \n",
    "# (a) with simple for loop/ distributed spark jobs (one combination-onerun/one node)\n",
    "# (b) with commercial open source packages or \n",
    "#     There are many Hyperparameter optimization methodology, one of them \n",
    "#     I was personally interested in trying was https://optuna.org/\n",
    "\n",
    "#Misc; Tensorboard (tensorflow sub-dependent package) is another useful tool to use.\n",
    "#in CLI, tensorboard --logdir=logs\\\\scalars --host=\"\" "
   ]
  },
  {
   "cell_type": "code",
   "execution_count": null,
   "metadata": {},
   "outputs": [],
   "source": [
    "#TO DO: Plot ROC, Confution matrix, F2 score. \n",
    "#For Precision and recall are key parameters to measure the accuracy of the classifier."
   ]
  },
  {
   "cell_type": "markdown",
   "metadata": {},
   "source": [
    "### Anomaly Detection Problem"
   ]
  },
  {
   "cell_type": "markdown",
   "metadata": {},
   "source": [
    "### SOYOUNG, same here, could we leave the 2 titles below and put the other references at the bottom?\n",
    "\n",
    "##### Unsupervised Anomaly Detection with Autoencoder Approach\n",
    "\n",
    "##### Feature extraction, then, visualize clusters to see how distribution looks like\n",
    "\n",
    "\n",
    "\n",
    "Deep Anomaly Detection/Feature extraction references  \n",
    "\n",
    "1. [Unsupervised Anomaly Detection in Multivariate SpatioTemporal Datasets using Deep Learning](https://project.inria.fr/aaltd19/files/2019/08/AALTD_19_Karadayi.pdf)  \n",
    "\n",
    "Local Outlier Factor (LOF), is one of the most popular algorithms that quantifies\n",
    "the outlierness of an object.    \n",
    "\n",
    "2. [how to build autoencoder](https://www.pyimagesearch.com/2020/02/17/autoencoders-with-keras-tensorflow-and-deep-learning/)\n",
    "3. [CNN-LSTM Encoder-Decoder based anomaly detection](https://www.mdpi.com/2076-3417/10/15/5191/pdf)  \n",
    "4. [VGG-16 net->PCA clustering-> feature vector for turbine blades failure detection](https://www.mdpi.com/2076-3417/10/15/5191/pdf)  \n",
    "5. [Traditional models review](https://www.sciencedirect.com/science/article/pii/S2590198220300233)\n",
    "traditional models often fail to fully capture complex structures in the data  \n",
    " - using parametric and non-parametric statistical models, \n",
    " - data clustering, \n",
    " - rule-based systems, \n",
    " - mixture models, \n",
    " - and SVMs (Support Vector Machines)\n",
    " - \n",
    " \n",
    " \n",
    " 6. [Unsupervised Anomaly Detection in Multivariate\n",
    "Spatio-Temporal Data Using Deep Learning: Early\n",
    "Detection of COVID-19 Outbreak in Italy](https://ieeexplore.ieee.org/stamp/stamp.jsp?arnumber=9187620)\n",
    "\n",
    "7. [](https://arxiv.org/pdf/1901.03407.pdf)\n",
    "\n",
    "\n"
   ]
  },
  {
   "cell_type": "markdown",
   "metadata": {},
   "source": []
  },
  {
   "cell_type": "markdown",
   "metadata": {},
   "source": [
    "### Other ideas for classification / detection"
   ]
  },
  {
   "cell_type": "code",
   "execution_count": null,
   "metadata": {},
   "outputs": [],
   "source": [
    "#TO DO:"
   ]
  },
  {
   "cell_type": "markdown",
   "metadata": {},
   "source": [
    "# Artifical Data Generation\n",
    "\n",
    "The purpose of the following is to provide the audience a structure for several tasks / subtasks that could be investigated for the generation of artificial data to increase the volume of our dataset.\n",
    "\n",
    "### How can we make more data? \n",
    "#### Transfer learning is still a big question mark, how is it implementable? What is the best way?  \n",
    "\n",
    "#### GANs\n",
    "\n",
    "#### Autoencoders"
   ]
  },
  {
   "cell_type": "markdown",
   "metadata": {},
   "source": [
    "TO DO: Augment data with simulation generating mass spectra. \n",
    "http://physics.bu.edu/~duffy/HTML5/mass_spectrometer.html"
   ]
  },
  {
   "cell_type": "markdown",
   "metadata": {},
   "source": [
    "### Other ideas"
   ]
  },
  {
   "cell_type": "markdown",
   "metadata": {},
   "source": [
    "TO DO: Domain specific\n",
    "https://venturebeat.com/2020/10/08/the-secrets-of-small-data-how-machine-learning-finally-reached-the-enterprise/amp/\n",
    "https://www.youtube.com/watch?v=vbhEnEbj3JM\n"
   ]
  },
  {
   "cell_type": "code",
   "execution_count": null,
   "metadata": {},
   "outputs": [],
   "source": [
    "#realtime decision making\n",
    "https://github.com/parksoy/Soyoung_Udacity_ND_DeepReinforcementLearning/tree/master/p1_navigation\n"
   ]
  },
  {
   "cell_type": "markdown",
   "metadata": {},
   "source": [
    "## Thank you so much to all of you, especially the DAMA people and our amazing volunteers Soyoung and Tal!\n",
    "### Feel free to contact us (Eric eric.i.lyness@nasa.gov and me victoria.dapoian@nasa.gov)"
   ]
  },
  {
   "cell_type": "code",
   "execution_count": null,
   "metadata": {},
   "outputs": [],
   "source": []
  }
 ],
 "metadata": {
  "kernelspec": {
   "display_name": "Python 3",
   "language": "python",
   "name": "python3"
  },
  "language_info": {
   "codemirror_mode": {
    "name": "ipython",
    "version": 3
   },
   "file_extension": ".py",
   "mimetype": "text/x-python",
   "name": "python",
   "nbconvert_exporter": "python",
   "pygments_lexer": "ipython3",
   "version": "3.7.6"
  }
 },
 "nbformat": 4,
 "nbformat_minor": 2
}
